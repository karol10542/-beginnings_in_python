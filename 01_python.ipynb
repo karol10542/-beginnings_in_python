{
  "nbformat": 4,
  "nbformat_minor": 0,
  "metadata": {
    "colab": {
      "name": "01_python.ipynb",
      "provenance": [],
      "collapsed_sections": [],
      "authorship_tag": "ABX9TyMLZTLZB0CoCj1efTHyXjIV",
      "include_colab_link": true
    },
    "kernelspec": {
      "name": "python3",
      "display_name": "Python 3"
    },
    "accelerator": "GPU"
  },
  "cells": [
    {
      "cell_type": "markdown",
      "metadata": {
        "id": "view-in-github",
        "colab_type": "text"
      },
      "source": [
        "<a href=\"https://colab.research.google.com/github/karol10542/-beginnings_in_python/blob/main/01_python.ipynb\" target=\"_parent\"><img src=\"https://colab.research.google.com/assets/colab-badge.svg\" alt=\"Open In Colab\"/></a>"
      ]
    },
    {
      "cell_type": "code",
      "metadata": {
        "colab": {
          "base_uri": "https://localhost:8080/"
        },
        "id": "EKBEtziB_jyi",
        "outputId": "6bf70217-ba70-48bd-ded0-ce262808e594"
      },
      "source": [
        "wsparcie = 500\r\n",
        "ilo_child = 2\r\n",
        "age_child1 = 16\r\n",
        "\r\n",
        "if age_child1 < 18 and ilo_child <=2:\r\n",
        "  print('otrzymujesz 500+')\r\n",
        "else:\r\n",
        "  print('nie spełniasz wymagań')"
      ],
      "execution_count": 2,
      "outputs": [
        {
          "output_type": "stream",
          "text": [
            "otrzymujesz 500+\n"
          ],
          "name": "stdout"
        }
      ]
    },
    {
      "cell_type": "code",
      "metadata": {
        "colab": {
          "base_uri": "https://localhost:8080/"
        },
        "id": "2nUOPSc1BcMD",
        "outputId": "46be27c9-abd8-4078-ebfb-b372f867acf6"
      },
      "source": [
        "12 * 23"
      ],
      "execution_count": 3,
      "outputs": [
        {
          "output_type": "execute_result",
          "data": {
            "text/plain": [
              "276"
            ]
          },
          "metadata": {
            "tags": []
          },
          "execution_count": 3
        }
      ]
    },
    {
      "cell_type": "code",
      "metadata": {
        "colab": {
          "base_uri": "https://localhost:8080/"
        },
        "id": "e89g07CbBfQq",
        "outputId": "765adf8d-e327-409c-9dc0-2abf66e41d15"
      },
      "source": [
        "22/2"
      ],
      "execution_count": 4,
      "outputs": [
        {
          "output_type": "execute_result",
          "data": {
            "text/plain": [
              "11.0"
            ]
          },
          "metadata": {
            "tags": []
          },
          "execution_count": 4
        }
      ]
    },
    {
      "cell_type": "code",
      "metadata": {
        "colab": {
          "base_uri": "https://localhost:8080/"
        },
        "id": "hUrgL5IjBg85",
        "outputId": "2b38cf21-c459-433b-fb2d-2f840617f6ae"
      },
      "source": [
        "22%2"
      ],
      "execution_count": 5,
      "outputs": [
        {
          "output_type": "execute_result",
          "data": {
            "text/plain": [
              "0"
            ]
          },
          "metadata": {
            "tags": []
          },
          "execution_count": 5
        }
      ]
    },
    {
      "cell_type": "code",
      "metadata": {
        "colab": {
          "base_uri": "https://localhost:8080/"
        },
        "id": "f2-O-_UXBifs",
        "outputId": "087df40a-f2e2-4cea-8aa0-77ab18bed936"
      },
      "source": [
        "23**2"
      ],
      "execution_count": 6,
      "outputs": [
        {
          "output_type": "execute_result",
          "data": {
            "text/plain": [
              "529"
            ]
          },
          "metadata": {
            "tags": []
          },
          "execution_count": 6
        }
      ]
    },
    {
      "cell_type": "code",
      "metadata": {
        "colab": {
          "base_uri": "https://localhost:8080/"
        },
        "id": "u5rhGiGYBlsX",
        "outputId": "148674e6-7570-4994-a616-7f2cf7ff54c0"
      },
      "source": [
        "bicie_serca_na_minute= 72\r\n",
        "na_godzine = bicie_serca_na_minute * 60 \r\n",
        "na_dzien = na_godzine *24\r\n",
        "na_rok = na_dzien *365\r\n",
        "wiek_70 = na_rok * 70\r\n",
        "print('Serce osoby w wieku 70 lat zabiło:',wiek_70 )"
      ],
      "execution_count": 8,
      "outputs": [
        {
          "output_type": "stream",
          "text": [
            "Serce osoby w wieku 70 lat zabiło: 2649024000\n"
          ],
          "name": "stdout"
        }
      ]
    },
    {
      "cell_type": "code",
      "metadata": {
        "id": "bfjlo9ZTC3Du"
      },
      "source": [
        "from datetime import date"
      ],
      "execution_count": 9,
      "outputs": []
    },
    {
      "cell_type": "code",
      "metadata": {
        "colab": {
          "base_uri": "https://localhost:8080/",
          "height": 35
        },
        "id": "VLuvp-5mEANj",
        "outputId": "2dbaf7fe-4889-4d02-e8a9-832b23c7fa3b"
      },
      "source": [
        "date.today().strftime(\"%A\")"
      ],
      "execution_count": 13,
      "outputs": [
        {
          "output_type": "execute_result",
          "data": {
            "application/vnd.google.colaboratory.intrinsic+json": {
              "type": "string"
            },
            "text/plain": [
              "'Thursday'"
            ]
          },
          "metadata": {
            "tags": []
          },
          "execution_count": 13
        }
      ]
    },
    {
      "cell_type": "code",
      "metadata": {
        "colab": {
          "base_uri": "https://localhost:8080/"
        },
        "id": "zAuNDdnqECo8",
        "outputId": "b458364a-0399-4873-e985-67c99b1eca22"
      },
      "source": [
        "print('Today is:',date.today().strftime('%A'))"
      ],
      "execution_count": 16,
      "outputs": [
        {
          "output_type": "stream",
          "text": [
            "Today is: Thursday\n"
          ],
          "name": "stdout"
        }
      ]
    },
    {
      "cell_type": "code",
      "metadata": {
        "id": "zGxOPqr4EgSQ"
      },
      "source": [
        "text = 'this is text'"
      ],
      "execution_count": 17,
      "outputs": []
    },
    {
      "cell_type": "code",
      "metadata": {
        "colab": {
          "base_uri": "https://localhost:8080/"
        },
        "id": "9H0vQ2X_Exvo",
        "outputId": "f829d9a7-1e85-45b4-d1cf-3788e1e11c34"
      },
      "source": [
        "print(text)"
      ],
      "execution_count": 18,
      "outputs": [
        {
          "output_type": "stream",
          "text": [
            "this is text\n"
          ],
          "name": "stdout"
        }
      ]
    },
    {
      "cell_type": "code",
      "metadata": {
        "colab": {
          "base_uri": "https://localhost:8080/"
        },
        "id": "YittQ38IEzNY",
        "outputId": "33b3da1b-6b79-4653-ff24-6d75db972149"
      },
      "source": [
        "print(text.upper())"
      ],
      "execution_count": 19,
      "outputs": [
        {
          "output_type": "stream",
          "text": [
            "THIS IS TEXT\n"
          ],
          "name": "stdout"
        }
      ]
    },
    {
      "cell_type": "code",
      "metadata": {
        "colab": {
          "base_uri": "https://localhost:8080/"
        },
        "id": "4CnxkRjaE7AV",
        "outputId": "840739d3-70f4-49ce-b8a9-2f19724f6bd6"
      },
      "source": [
        "print(text[2:5])"
      ],
      "execution_count": 20,
      "outputs": [
        {
          "output_type": "stream",
          "text": [
            "is \n"
          ],
          "name": "stdout"
        }
      ]
    },
    {
      "cell_type": "code",
      "metadata": {
        "colab": {
          "base_uri": "https://localhost:8080/"
        },
        "id": "JKLDMJI4FGHc",
        "outputId": "07fbc4b7-74e7-46a9-a593-4dcaf2abd221"
      },
      "source": [
        "len(text)"
      ],
      "execution_count": 22,
      "outputs": [
        {
          "output_type": "execute_result",
          "data": {
            "text/plain": [
              "12"
            ]
          },
          "metadata": {
            "tags": []
          },
          "execution_count": 22
        }
      ]
    },
    {
      "cell_type": "code",
      "metadata": {
        "colab": {
          "base_uri": "https://localhost:8080/"
        },
        "id": "le7fX01FGgdW",
        "outputId": "300a2589-6cdf-42fb-bc98-d1f1d8515ab2"
      },
      "source": [
        "help(text.upper)"
      ],
      "execution_count": 23,
      "outputs": [
        {
          "output_type": "stream",
          "text": [
            "Help on built-in function upper:\n",
            "\n",
            "upper(...) method of builtins.str instance\n",
            "    S.upper() -> str\n",
            "    \n",
            "    Return a copy of S converted to uppercase.\n",
            "\n"
          ],
          "name": "stdout"
        }
      ]
    },
    {
      "cell_type": "code",
      "metadata": {
        "colab": {
          "base_uri": "https://localhost:8080/"
        },
        "id": "P7pUQBnCGueX",
        "outputId": "cfd8fc8c-288f-475e-b895-4eea285ff10f"
      },
      "source": [
        "text.split('is')"
      ],
      "execution_count": 27,
      "outputs": [
        {
          "output_type": "execute_result",
          "data": {
            "text/plain": [
              "['th', ' ', ' text']"
            ]
          },
          "metadata": {
            "tags": []
          },
          "execution_count": 27
        }
      ]
    },
    {
      "cell_type": "code",
      "metadata": {
        "colab": {
          "base_uri": "https://localhost:8080/"
        },
        "id": "8LVfGjh6Gypi",
        "outputId": "7fa9635a-904b-4b77-df74-5f8b320a38c5"
      },
      "source": [
        "text.split()"
      ],
      "execution_count": 28,
      "outputs": [
        {
          "output_type": "execute_result",
          "data": {
            "text/plain": [
              "['this', 'is', 'text']"
            ]
          },
          "metadata": {
            "tags": []
          },
          "execution_count": 28
        }
      ]
    },
    {
      "cell_type": "code",
      "metadata": {
        "id": "qNwBvYt8HAEB"
      },
      "source": [
        ""
      ],
      "execution_count": null,
      "outputs": []
    }
  ]
}