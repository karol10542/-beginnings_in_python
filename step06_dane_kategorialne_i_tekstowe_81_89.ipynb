{
  "nbformat": 4,
  "nbformat_minor": 0,
  "metadata": {
    "colab": {
      "name": "step05_dane_kategorialne_i_tekstowe_81-89.ipynb",
      "provenance": [],
      "collapsed_sections": [],
      "authorship_tag": "ABX9TyO7NHnCrj+0aEhBl+c4iumg",
      "include_colab_link": true
    },
    "kernelspec": {
      "name": "python3",
      "display_name": "Python 3"
    },
    "language_info": {
      "name": "python"
    }
  },
  "cells": [
    {
      "cell_type": "markdown",
      "metadata": {
        "id": "view-in-github",
        "colab_type": "text"
      },
      "source": [
        "<a href=\"https://colab.research.google.com/github/karol10542/-beginnings_in_python/blob/main/step06_dane_kategorialne_i_tekstowe_81_89.ipynb\" target=\"_parent\"><img src=\"https://colab.research.google.com/assets/colab-badge.svg\" alt=\"Open In Colab\"/></a>"
      ]
    },
    {
      "cell_type": "code",
      "metadata": {
        "id": "I0Wt1DIPrcEs"
      },
      "source": [
        "import pandas as pd"
      ],
      "execution_count": 7,
      "outputs": []
    },
    {
      "cell_type": "code",
      "metadata": {
        "colab": {
          "base_uri": "https://localhost:8080/",
          "height": 204
        },
        "id": "a1mytDahrlvA",
        "outputId": "21b3a5d7-d6c0-4e3d-b1ec-b4b5569f57e1"
      },
      "source": [
        "#tworzenie tablicy\n",
        "categorical_features = pd.Series(['sunny','cloudy','snowy','rainy','foggy'])\n",
        "#utowrzenie odpowiednich cech binarnych w kolumnach\n",
        "mapping = pd.get_dummies(categorical_features)\n",
        "mapping"
      ],
      "execution_count": 8,
      "outputs": [
        {
          "output_type": "execute_result",
          "data": {
            "text/html": [
              "<div>\n",
              "<style scoped>\n",
              "    .dataframe tbody tr th:only-of-type {\n",
              "        vertical-align: middle;\n",
              "    }\n",
              "\n",
              "    .dataframe tbody tr th {\n",
              "        vertical-align: top;\n",
              "    }\n",
              "\n",
              "    .dataframe thead th {\n",
              "        text-align: right;\n",
              "    }\n",
              "</style>\n",
              "<table border=\"1\" class=\"dataframe\">\n",
              "  <thead>\n",
              "    <tr style=\"text-align: right;\">\n",
              "      <th></th>\n",
              "      <th>cloudy</th>\n",
              "      <th>foggy</th>\n",
              "      <th>rainy</th>\n",
              "      <th>snowy</th>\n",
              "      <th>sunny</th>\n",
              "    </tr>\n",
              "  </thead>\n",
              "  <tbody>\n",
              "    <tr>\n",
              "      <th>0</th>\n",
              "      <td>0</td>\n",
              "      <td>0</td>\n",
              "      <td>0</td>\n",
              "      <td>0</td>\n",
              "      <td>1</td>\n",
              "    </tr>\n",
              "    <tr>\n",
              "      <th>1</th>\n",
              "      <td>1</td>\n",
              "      <td>0</td>\n",
              "      <td>0</td>\n",
              "      <td>0</td>\n",
              "      <td>0</td>\n",
              "    </tr>\n",
              "    <tr>\n",
              "      <th>2</th>\n",
              "      <td>0</td>\n",
              "      <td>0</td>\n",
              "      <td>0</td>\n",
              "      <td>1</td>\n",
              "      <td>0</td>\n",
              "    </tr>\n",
              "    <tr>\n",
              "      <th>3</th>\n",
              "      <td>0</td>\n",
              "      <td>0</td>\n",
              "      <td>1</td>\n",
              "      <td>0</td>\n",
              "      <td>0</td>\n",
              "    </tr>\n",
              "    <tr>\n",
              "      <th>4</th>\n",
              "      <td>0</td>\n",
              "      <td>1</td>\n",
              "      <td>0</td>\n",
              "      <td>0</td>\n",
              "      <td>0</td>\n",
              "    </tr>\n",
              "  </tbody>\n",
              "</table>\n",
              "</div>"
            ],
            "text/plain": [
              "   cloudy  foggy  rainy  snowy  sunny\n",
              "0       0      0      0      0      1\n",
              "1       1      0      0      0      0\n",
              "2       0      0      0      1      0\n",
              "3       0      0      1      0      0\n",
              "4       0      1      0      0      0"
            ]
          },
          "metadata": {
            "tags": []
          },
          "execution_count": 8
        }
      ]
    },
    {
      "cell_type": "code",
      "metadata": {
        "colab": {
          "base_uri": "https://localhost:8080/"
        },
        "id": "joITB3USr__-",
        "outputId": "f51ff447-af64-456f-e38e-4c29a94cda2f"
      },
      "source": [
        "mapping['sunny']"
      ],
      "execution_count": 9,
      "outputs": [
        {
          "output_type": "execute_result",
          "data": {
            "text/plain": [
              "0    1\n",
              "1    0\n",
              "2    0\n",
              "3    0\n",
              "4    0\n",
              "Name: sunny, dtype: uint8"
            ]
          },
          "metadata": {
            "tags": []
          },
          "execution_count": 9
        }
      ]
    },
    {
      "cell_type": "code",
      "metadata": {
        "colab": {
          "base_uri": "https://localhost:8080/",
          "height": 231
        },
        "id": "vGRuHCYrsdZe",
        "outputId": "0558f96d-314d-47d3-f25b-1ece31f0e65e"
      },
      "source": [
        "#inny sposob za pomoca innej biblioteki, efekt ten sam:\n",
        "from sklearn.preprocessing import OneHotEncoder\n",
        "from sklearn.preprocessing import LabelEncoder\n",
        "\n",
        "le= LabelEncoder()\n",
        "ohe = OneHotEncoder()\n",
        "levels = ['sunny','cloudy','snowy','rainy','foggy']\n",
        "fit_levs = le.fit_transform(levels)\n",
        "ohe.fit([[fit_levs[0]],[fit_levs[1]],[fit_levs[2]],[fit_levs[3]],[fit_levs[4]]])\n",
        "\n",
        "print(ohe.transform([le.tansform(['sunny'])]).toarray())\n",
        "print(ohe.transform([le.tansform(['cloudy'])]).toarray())\n",
        "#lavelencoder odwzorowuje tekst na od 0 do n liczb calkowittych."
      ],
      "execution_count": 10,
      "outputs": [
        {
          "output_type": "error",
          "ename": "AttributeError",
          "evalue": "ignored",
          "traceback": [
            "\u001b[0;31m---------------------------------------------------------------------------\u001b[0m",
            "\u001b[0;31mAttributeError\u001b[0m                            Traceback (most recent call last)",
            "\u001b[0;32m<ipython-input-10-449efba92600>\u001b[0m in \u001b[0;36m<module>\u001b[0;34m()\u001b[0m\n\u001b[1;32m      9\u001b[0m \u001b[0mohe\u001b[0m\u001b[0;34m.\u001b[0m\u001b[0mfit\u001b[0m\u001b[0;34m(\u001b[0m\u001b[0;34m[\u001b[0m\u001b[0;34m[\u001b[0m\u001b[0mfit_levs\u001b[0m\u001b[0;34m[\u001b[0m\u001b[0;36m0\u001b[0m\u001b[0;34m]\u001b[0m\u001b[0;34m]\u001b[0m\u001b[0;34m,\u001b[0m\u001b[0;34m[\u001b[0m\u001b[0mfit_levs\u001b[0m\u001b[0;34m[\u001b[0m\u001b[0;36m1\u001b[0m\u001b[0;34m]\u001b[0m\u001b[0;34m]\u001b[0m\u001b[0;34m,\u001b[0m\u001b[0;34m[\u001b[0m\u001b[0mfit_levs\u001b[0m\u001b[0;34m[\u001b[0m\u001b[0;36m2\u001b[0m\u001b[0;34m]\u001b[0m\u001b[0;34m]\u001b[0m\u001b[0;34m,\u001b[0m\u001b[0;34m[\u001b[0m\u001b[0mfit_levs\u001b[0m\u001b[0;34m[\u001b[0m\u001b[0;36m3\u001b[0m\u001b[0;34m]\u001b[0m\u001b[0;34m]\u001b[0m\u001b[0;34m,\u001b[0m\u001b[0;34m[\u001b[0m\u001b[0mfit_levs\u001b[0m\u001b[0;34m[\u001b[0m\u001b[0;36m4\u001b[0m\u001b[0;34m]\u001b[0m\u001b[0;34m]\u001b[0m\u001b[0;34m]\u001b[0m\u001b[0;34m)\u001b[0m\u001b[0;34m\u001b[0m\u001b[0;34m\u001b[0m\u001b[0m\n\u001b[1;32m     10\u001b[0m \u001b[0;34m\u001b[0m\u001b[0m\n\u001b[0;32m---> 11\u001b[0;31m \u001b[0mprint\u001b[0m\u001b[0;34m(\u001b[0m\u001b[0mohe\u001b[0m\u001b[0;34m.\u001b[0m\u001b[0mtransform\u001b[0m\u001b[0;34m(\u001b[0m\u001b[0;34m[\u001b[0m\u001b[0mle\u001b[0m\u001b[0;34m.\u001b[0m\u001b[0mtansform\u001b[0m\u001b[0;34m(\u001b[0m\u001b[0;34m[\u001b[0m\u001b[0;34m'sunny'\u001b[0m\u001b[0;34m]\u001b[0m\u001b[0;34m)\u001b[0m\u001b[0;34m]\u001b[0m\u001b[0;34m)\u001b[0m\u001b[0;34m.\u001b[0m\u001b[0mtoarray\u001b[0m\u001b[0;34m(\u001b[0m\u001b[0;34m)\u001b[0m\u001b[0;34m)\u001b[0m\u001b[0;34m\u001b[0m\u001b[0;34m\u001b[0m\u001b[0m\n\u001b[0m\u001b[1;32m     12\u001b[0m \u001b[0mprint\u001b[0m\u001b[0;34m(\u001b[0m\u001b[0mohe\u001b[0m\u001b[0;34m.\u001b[0m\u001b[0mtransform\u001b[0m\u001b[0;34m(\u001b[0m\u001b[0;34m[\u001b[0m\u001b[0mle\u001b[0m\u001b[0;34m.\u001b[0m\u001b[0mtansform\u001b[0m\u001b[0;34m(\u001b[0m\u001b[0;34m[\u001b[0m\u001b[0;34m'cloudy'\u001b[0m\u001b[0;34m]\u001b[0m\u001b[0;34m)\u001b[0m\u001b[0;34m]\u001b[0m\u001b[0;34m)\u001b[0m\u001b[0;34m.\u001b[0m\u001b[0mtoarray\u001b[0m\u001b[0;34m(\u001b[0m\u001b[0;34m)\u001b[0m\u001b[0;34m)\u001b[0m\u001b[0;34m\u001b[0m\u001b[0;34m\u001b[0m\u001b[0m\n\u001b[1;32m     13\u001b[0m \u001b[0;31m#lavelencoder odwzorowuje tekst na od 0 do n liczb calkowittych.\u001b[0m\u001b[0;34m\u001b[0m\u001b[0;34m\u001b[0m\u001b[0;34m\u001b[0m\u001b[0m\n",
            "\u001b[0;31mAttributeError\u001b[0m: 'LabelEncoder' object has no attribute 'tansform'"
          ]
        }
      ]
    },
    {
      "cell_type": "code",
      "metadata": {
        "colab": {
          "base_uri": "https://localhost:8080/"
        },
        "id": "Otze92b7uivh",
        "outputId": "fdd49b81-3a4a-4d23-8ea3-5e67055b9430"
      },
      "source": [
        "#pobieramy podzbior bazdanych z tekstami z pakietu sklearn mianowiscie:'sci.med','sci.space'\n",
        "from sklearn.datasets import fetch_20newsgroups\n",
        "categories = ['sci.med','sci.space'] \n",
        "twenty_sci_news = fetch_20newsgroups(categories= categories)"
      ],
      "execution_count": 11,
      "outputs": [
        {
          "output_type": "stream",
          "text": [
            "Downloading 20news dataset. This may take a few minutes.\n",
            "Downloading dataset from https://ndownloader.figshare.com/files/5975967 (14 MB)\n"
          ],
          "name": "stderr"
        }
      ]
    },
    {
      "cell_type": "code",
      "metadata": {
        "colab": {
          "base_uri": "https://localhost:8080/"
        },
        "id": "vXCleCSKwhNp",
        "outputId": "101ca2c1-c47d-483c-8bfc-94ecc656ee45"
      },
      "source": [
        "print(twenty_sci_news.data[0])"
      ],
      "execution_count": 13,
      "outputs": [
        {
          "output_type": "stream",
          "text": [
            "From: flb@flb.optiplan.fi (\"F.Baube[tm]\")\n",
            "Subject: Vandalizing the sky\n",
            "X-Added: Forwarded by Space Digest\n",
            "Organization: [via International Space University]\n",
            "Original-Sender: isu@VACATION.VENARI.CS.CMU.EDU\n",
            "Distribution: sci\n",
            "Lines: 12\n",
            "\n",
            "From: \"Phil G. Fraering\" <pgf@srl03.cacs.usl.edu>\n",
            "> \n",
            "> Finally: this isn't the Bronze Age, [..]\n",
            "> please try to remember that there are more human activities than\n",
            "> those practiced by the Warrior Caste, the Farming Caste, and the\n",
            "> Priesthood.\n",
            "\n",
            "Right, the Profiting Caste is blessed by God, and may \n",
            " freely blare its presence in the evening twilight ..\n",
            "\n",
            "-- \n",
            "* Fred Baube (tm)\n",
            "\n"
          ],
          "name": "stdout"
        }
      ]
    },
    {
      "cell_type": "code",
      "metadata": {
        "colab": {
          "base_uri": "https://localhost:8080/"
        },
        "id": "qHiYctYhw2hQ",
        "outputId": "8c45a233-0781-4593-b4a8-f982fb398558"
      },
      "source": [
        "twenty_sci_news.filenames"
      ],
      "execution_count": 14,
      "outputs": [
        {
          "output_type": "execute_result",
          "data": {
            "text/plain": [
              "array(['/root/scikit_learn_data/20news_home/20news-bydate-train/sci.space/61116',\n",
              "       '/root/scikit_learn_data/20news_home/20news-bydate-train/sci.med/58122',\n",
              "       '/root/scikit_learn_data/20news_home/20news-bydate-train/sci.med/58903',\n",
              "       ...,\n",
              "       '/root/scikit_learn_data/20news_home/20news-bydate-train/sci.space/60774',\n",
              "       '/root/scikit_learn_data/20news_home/20news-bydate-train/sci.space/60954',\n",
              "       '/root/scikit_learn_data/20news_home/20news-bydate-train/sci.med/58911'],\n",
              "      dtype='<U86')"
            ]
          },
          "metadata": {
            "tags": []
          },
          "execution_count": 14
        }
      ]
    },
    {
      "cell_type": "code",
      "metadata": {
        "colab": {
          "base_uri": "https://localhost:8080/"
        },
        "id": "ss-poS6TxOlM",
        "outputId": "f684aaa6-16f3-4ee6-f9cc-714040ea1392"
      },
      "source": [
        "#importujemy pakiet ktory posluzy do zliczenia slow\n",
        "#nastepnie tworzymy obiekt typu countVectorizer. Nastepnie metoda fit_transform zliczajaca slowa z poszczegolnych dokumentow i generujaca dla kazdego dokumentu wetkor cech\n",
        "#nastepnie sprawdzany jest rozmiar macierzy, pierwsza wartosc to liczba dokumentow a dugra wartosc to liczba unikatowych slow. (1187, 25638)\n",
        "from sklearn.feature_extraction.text import CountVectorizer\n",
        "count_vect = CountVectorizer()\n",
        "word_count = count_vect.fit_transform(twenty_sci_news.data)\n",
        "word_count.shape\n"
      ],
      "execution_count": 15,
      "outputs": [
        {
          "output_type": "execute_result",
          "data": {
            "text/plain": [
              "(1187, 25638)"
            ]
          },
          "metadata": {
            "tags": []
          },
          "execution_count": 15
        }
      ]
    },
    {
      "cell_type": "code",
      "metadata": {
        "colab": {
          "base_uri": "https://localhost:8080/"
        },
        "id": "njbH-4KsxTVj",
        "outputId": "8b888b55-39e6-4eff-a8fe-1d48394906f9"
      },
      "source": [
        "print(word_count[0])"
      ],
      "execution_count": 16,
      "outputs": [
        {
          "output_type": "stream",
          "text": [
            "  (0, 10827)\t2\n",
            "  (0, 10501)\t2\n",
            "  (0, 17170)\t1\n",
            "  (0, 10341)\t1\n",
            "  (0, 4762)\t2\n",
            "  (0, 23381)\t2\n",
            "  (0, 22345)\t1\n",
            "  (0, 24461)\t1\n",
            "  (0, 23137)\t7\n",
            "  (0, 21382)\t1\n",
            "  (0, 3233)\t1\n",
            "  (0, 10713)\t1\n",
            "  (0, 5650)\t3\n",
            "  (0, 21686)\t2\n",
            "  (0, 8438)\t1\n",
            "  (0, 17217)\t1\n",
            "  (0, 24626)\t1\n",
            "  (0, 13158)\t1\n",
            "  (0, 24151)\t1\n",
            "  (0, 17235)\t1\n",
            "  (0, 20909)\t1\n",
            "  (0, 13359)\t1\n",
            "  (0, 24415)\t1\n",
            "  (0, 24547)\t1\n",
            "  (0, 7646)\t1\n",
            "  :\t:\n",
            "  (0, 15968)\t1\n",
            "  (0, 12362)\t1\n",
            "  (0, 3191)\t1\n",
            "  (0, 23129)\t1\n",
            "  (0, 23241)\t1\n",
            "  (0, 18474)\t1\n",
            "  (0, 24930)\t1\n",
            "  (0, 6017)\t3\n",
            "  (0, 10188)\t1\n",
            "  (0, 3808)\t2\n",
            "  (0, 18642)\t1\n",
            "  (0, 20110)\t1\n",
            "  (0, 18744)\t1\n",
            "  (0, 13318)\t1\n",
            "  (0, 5148)\t1\n",
            "  (0, 11330)\t1\n",
            "  (0, 15246)\t1\n",
            "  (0, 10785)\t1\n",
            "  (0, 5134)\t1\n",
            "  (0, 13384)\t1\n",
            "  (0, 18586)\t1\n",
            "  (0, 12716)\t1\n",
            "  (0, 9796)\t1\n",
            "  (0, 23849)\t1\n",
            "  (0, 10778)\t1\n"
          ],
          "name": "stdout"
        }
      ]
    },
    {
      "cell_type": "code",
      "metadata": {
        "colab": {
          "base_uri": "https://localhost:8080/"
        },
        "id": "0uaUXjJjzCsq",
        "outputId": "aa2b8f8b-d1e4-40bf-e295-cd5d1e48cc7a"
      },
      "source": [
        "#sprawdzimy wystapienia slow za pomoca ponziszego kodu:\n",
        "word_list = count_vect.get_feature_names()\n",
        "for n in word_count[0].indices:\n",
        "  print('Słowo: \"%s\". Liczba wystąpień: %i' % (word_list[n],word_count[0,n]))"
      ],
      "execution_count": 17,
      "outputs": [
        {
          "output_type": "stream",
          "text": [
            "Słowo: \"from\". Liczba wystąpień: 2\n",
            "Słowo: \"flb\". Liczba wystąpień: 2\n",
            "Słowo: \"optiplan\". Liczba wystąpień: 1\n",
            "Słowo: \"fi\". Liczba wystąpień: 1\n",
            "Słowo: \"baube\". Liczba wystąpień: 2\n",
            "Słowo: \"tm\". Liczba wystąpień: 2\n",
            "Słowo: \"subject\". Liczba wystąpień: 1\n",
            "Słowo: \"vandalizing\". Liczba wystąpień: 1\n",
            "Słowo: \"the\". Liczba wystąpień: 7\n",
            "Słowo: \"sky\". Liczba wystąpień: 1\n",
            "Słowo: \"added\". Liczba wystąpień: 1\n",
            "Słowo: \"forwarded\". Liczba wystąpień: 1\n",
            "Słowo: \"by\". Liczba wystąpień: 3\n",
            "Słowo: \"space\". Liczba wystąpień: 2\n",
            "Słowo: \"digest\". Liczba wystąpień: 1\n",
            "Słowo: \"organization\". Liczba wystąpień: 1\n",
            "Słowo: \"via\". Liczba wystąpień: 1\n",
            "Słowo: \"international\". Liczba wystąpień: 1\n",
            "Słowo: \"university\". Liczba wystąpień: 1\n",
            "Słowo: \"original\". Liczba wystąpień: 1\n",
            "Słowo: \"sender\". Liczba wystąpień: 1\n",
            "Słowo: \"isu\". Liczba wystąpień: 1\n",
            "Słowo: \"vacation\". Liczba wystąpień: 1\n",
            "Słowo: \"venari\". Liczba wystąpień: 1\n",
            "Słowo: \"cs\". Liczba wystąpień: 1\n",
            "Słowo: \"cmu\". Liczba wystąpień: 1\n",
            "Słowo: \"edu\". Liczba wystąpień: 2\n",
            "Słowo: \"distribution\". Liczba wystąpień: 1\n",
            "Słowo: \"sci\". Liczba wystąpień: 1\n",
            "Słowo: \"lines\". Liczba wystąpień: 1\n",
            "Słowo: \"12\". Liczba wystąpień: 1\n",
            "Słowo: \"phil\". Liczba wystąpień: 1\n",
            "Słowo: \"fraering\". Liczba wystąpień: 1\n",
            "Słowo: \"pgf\". Liczba wystąpień: 1\n",
            "Słowo: \"srl03\". Liczba wystąpień: 1\n",
            "Słowo: \"cacs\". Liczba wystąpień: 1\n",
            "Słowo: \"usl\". Liczba wystąpień: 1\n",
            "Słowo: \"finally\". Liczba wystąpień: 1\n",
            "Słowo: \"this\". Liczba wystąpień: 1\n",
            "Słowo: \"isn\". Liczba wystąpień: 1\n",
            "Słowo: \"bronze\". Liczba wystąpień: 1\n",
            "Słowo: \"age\". Liczba wystąpień: 1\n",
            "Słowo: \"please\". Liczba wystąpień: 1\n",
            "Słowo: \"try\". Liczba wystąpień: 1\n",
            "Słowo: \"to\". Liczba wystąpień: 1\n",
            "Słowo: \"remember\". Liczba wystąpień: 1\n",
            "Słowo: \"that\". Liczba wystąpień: 1\n",
            "Słowo: \"there\". Liczba wystąpień: 1\n",
            "Słowo: \"are\". Liczba wystąpień: 1\n",
            "Słowo: \"more\". Liczba wystąpień: 1\n",
            "Słowo: \"human\". Liczba wystąpień: 1\n",
            "Słowo: \"activities\". Liczba wystąpień: 1\n",
            "Słowo: \"than\". Liczba wystąpień: 1\n",
            "Słowo: \"those\". Liczba wystąpień: 1\n",
            "Słowo: \"practiced\". Liczba wystąpień: 1\n",
            "Słowo: \"warrior\". Liczba wystąpień: 1\n",
            "Słowo: \"caste\". Liczba wystąpień: 3\n",
            "Słowo: \"farming\". Liczba wystąpień: 1\n",
            "Słowo: \"and\". Liczba wystąpień: 2\n",
            "Słowo: \"priesthood\". Liczba wystąpień: 1\n",
            "Słowo: \"right\". Liczba wystąpień: 1\n",
            "Słowo: \"profiting\". Liczba wystąpień: 1\n",
            "Słowo: \"is\". Liczba wystąpień: 1\n",
            "Słowo: \"blessed\". Liczba wystąpień: 1\n",
            "Słowo: \"god\". Liczba wystąpień: 1\n",
            "Słowo: \"may\". Liczba wystąpień: 1\n",
            "Słowo: \"freely\". Liczba wystąpień: 1\n",
            "Słowo: \"blare\". Liczba wystąpień: 1\n",
            "Słowo: \"its\". Liczba wystąpień: 1\n",
            "Słowo: \"presence\". Liczba wystąpień: 1\n",
            "Słowo: \"in\". Liczba wystąpień: 1\n",
            "Słowo: \"evening\". Liczba wystąpień: 1\n",
            "Słowo: \"twilight\". Liczba wystąpień: 1\n",
            "Słowo: \"fred\". Liczba wystąpień: 1\n"
          ],
          "name": "stdout"
        }
      ]
    },
    {
      "cell_type": "code",
      "metadata": {
        "id": "URF1b629z0Nz",
        "colab": {
          "base_uri": "https://localhost:8080/",
          "height": 374
        },
        "outputId": "eecad9dd-2959-4bff-dd32-79e99095df89"
      },
      "source": [
        "#zliczamy częstotliwość występowania danego słowa\n",
        "#import odpowiedniej biblioteki\n",
        "from sklearn.feature_extraction.text import TfidfVectorizer\n",
        "tfidf_vect = TfidfVectorizer()\n",
        "word_tfidf = tfidf_vect.fit_transform(twenty_sci_news.data)\n",
        "word_list = tf_vect.get_feature_names()\n",
        "for n in word_freq[0].indices:\n",
        "  print('Słowo:\"%s\".Wartość tfidf:%0.3f' % (word_list[n],word_tfidf[0,n]))"
      ],
      "execution_count": 21,
      "outputs": [
        {
          "output_type": "error",
          "ename": "NotFittedError",
          "evalue": "ignored",
          "traceback": [
            "\u001b[0;31m---------------------------------------------------------------------------\u001b[0m",
            "\u001b[0;31mNotFittedError\u001b[0m                            Traceback (most recent call last)",
            "\u001b[0;32m<ipython-input-21-331bdca7a9fe>\u001b[0m in \u001b[0;36m<module>\u001b[0;34m()\u001b[0m\n\u001b[1;32m      4\u001b[0m \u001b[0mtfidf_vect\u001b[0m \u001b[0;34m=\u001b[0m \u001b[0mTfidfVectorizer\u001b[0m\u001b[0;34m(\u001b[0m\u001b[0;34m)\u001b[0m\u001b[0;34m\u001b[0m\u001b[0;34m\u001b[0m\u001b[0m\n\u001b[1;32m      5\u001b[0m \u001b[0mword_tfidf\u001b[0m \u001b[0;34m=\u001b[0m \u001b[0mtfidf_vect\u001b[0m\u001b[0;34m.\u001b[0m\u001b[0mfit_transform\u001b[0m\u001b[0;34m(\u001b[0m\u001b[0mtwenty_sci_news\u001b[0m\u001b[0;34m.\u001b[0m\u001b[0mdata\u001b[0m\u001b[0;34m)\u001b[0m\u001b[0;34m\u001b[0m\u001b[0;34m\u001b[0m\u001b[0m\n\u001b[0;32m----> 6\u001b[0;31m \u001b[0mword_list\u001b[0m \u001b[0;34m=\u001b[0m \u001b[0mtf_vect\u001b[0m\u001b[0;34m.\u001b[0m\u001b[0mget_feature_names\u001b[0m\u001b[0;34m(\u001b[0m\u001b[0;34m)\u001b[0m\u001b[0;34m\u001b[0m\u001b[0;34m\u001b[0m\u001b[0m\n\u001b[0m\u001b[1;32m      7\u001b[0m \u001b[0;32mfor\u001b[0m \u001b[0mn\u001b[0m \u001b[0;32min\u001b[0m \u001b[0mword_freq\u001b[0m\u001b[0;34m[\u001b[0m\u001b[0;36m0\u001b[0m\u001b[0;34m]\u001b[0m\u001b[0;34m.\u001b[0m\u001b[0mindices\u001b[0m\u001b[0;34m:\u001b[0m\u001b[0;34m\u001b[0m\u001b[0;34m\u001b[0m\u001b[0m\n\u001b[1;32m      8\u001b[0m   \u001b[0mprint\u001b[0m\u001b[0;34m(\u001b[0m\u001b[0;34m'Słowo:\"%s\".Wartość tfidf:%0.3f'\u001b[0m \u001b[0;34m%\u001b[0m \u001b[0;34m(\u001b[0m\u001b[0mword_list\u001b[0m\u001b[0;34m[\u001b[0m\u001b[0mn\u001b[0m\u001b[0;34m]\u001b[0m\u001b[0;34m,\u001b[0m\u001b[0mword_tfidf\u001b[0m\u001b[0;34m[\u001b[0m\u001b[0;36m0\u001b[0m\u001b[0;34m,\u001b[0m\u001b[0mn\u001b[0m\u001b[0;34m]\u001b[0m\u001b[0;34m)\u001b[0m\u001b[0;34m)\u001b[0m\u001b[0;34m\u001b[0m\u001b[0;34m\u001b[0m\u001b[0m\n",
            "\u001b[0;32m/usr/local/lib/python3.7/dist-packages/sklearn/feature_extraction/text.py\u001b[0m in \u001b[0;36mget_feature_names\u001b[0;34m(self)\u001b[0m\n\u001b[1;32m   1313\u001b[0m         \"\"\"\n\u001b[1;32m   1314\u001b[0m \u001b[0;34m\u001b[0m\u001b[0m\n\u001b[0;32m-> 1315\u001b[0;31m         \u001b[0mself\u001b[0m\u001b[0;34m.\u001b[0m\u001b[0m_check_vocabulary\u001b[0m\u001b[0;34m(\u001b[0m\u001b[0;34m)\u001b[0m\u001b[0;34m\u001b[0m\u001b[0;34m\u001b[0m\u001b[0m\n\u001b[0m\u001b[1;32m   1316\u001b[0m \u001b[0;34m\u001b[0m\u001b[0m\n\u001b[1;32m   1317\u001b[0m         return [t for t, i in sorted(self.vocabulary_.items(),\n",
            "\u001b[0;32m/usr/local/lib/python3.7/dist-packages/sklearn/feature_extraction/text.py\u001b[0m in \u001b[0;36m_check_vocabulary\u001b[0;34m(self)\u001b[0m\n\u001b[1;32m    488\u001b[0m             \u001b[0mself\u001b[0m\u001b[0;34m.\u001b[0m\u001b[0m_validate_vocabulary\u001b[0m\u001b[0;34m(\u001b[0m\u001b[0;34m)\u001b[0m\u001b[0;34m\u001b[0m\u001b[0;34m\u001b[0m\u001b[0m\n\u001b[1;32m    489\u001b[0m             \u001b[0;32mif\u001b[0m \u001b[0;32mnot\u001b[0m \u001b[0mself\u001b[0m\u001b[0;34m.\u001b[0m\u001b[0mfixed_vocabulary_\u001b[0m\u001b[0;34m:\u001b[0m\u001b[0;34m\u001b[0m\u001b[0;34m\u001b[0m\u001b[0m\n\u001b[0;32m--> 490\u001b[0;31m                 \u001b[0;32mraise\u001b[0m \u001b[0mNotFittedError\u001b[0m\u001b[0;34m(\u001b[0m\u001b[0;34m\"Vocabulary not fitted or provided\"\u001b[0m\u001b[0;34m)\u001b[0m\u001b[0;34m\u001b[0m\u001b[0;34m\u001b[0m\u001b[0m\n\u001b[0m\u001b[1;32m    491\u001b[0m \u001b[0;34m\u001b[0m\u001b[0m\n\u001b[1;32m    492\u001b[0m         \u001b[0;32mif\u001b[0m \u001b[0mlen\u001b[0m\u001b[0;34m(\u001b[0m\u001b[0mself\u001b[0m\u001b[0;34m.\u001b[0m\u001b[0mvocabulary_\u001b[0m\u001b[0;34m)\u001b[0m \u001b[0;34m==\u001b[0m \u001b[0;36m0\u001b[0m\u001b[0;34m:\u001b[0m\u001b[0;34m\u001b[0m\u001b[0;34m\u001b[0m\u001b[0m\n",
            "\u001b[0;31mNotFittedError\u001b[0m: Vocabulary not fitted or provided"
          ]
        }
      ]
    },
    {
      "cell_type": "code",
      "metadata": {
        "id": "MPrRJGA6l7Sx"
      },
      "source": [
        ""
      ],
      "execution_count": null,
      "outputs": []
    }
  ]
}